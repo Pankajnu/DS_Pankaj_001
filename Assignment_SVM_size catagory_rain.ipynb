{
 "cells": [
  {
   "cell_type": "code",
   "execution_count": 1,
   "metadata": {},
   "outputs": [],
   "source": [
    "import pandas as pd\n",
    "import numpy as np\n",
    "from sklearn.svm import SVC\n",
    "from sklearn.model_selection import train_test_split\n"
   ]
  },
  {
   "cell_type": "code",
   "execution_count": 2,
   "metadata": {},
   "outputs": [],
   "source": [
    "df=pd.read_csv(r\"C:\\Users\\pankshar\\Desktop\\Learning material\\EXCELR\\Assignment\\Pending17_SVM\\forestfires.csv\")"
   ]
  },
  {
   "cell_type": "code",
   "execution_count": 3,
   "metadata": {},
   "outputs": [],
   "source": [
    "df=df.iloc[:, [2,3,4,5,6,7,8,30]]"
   ]
  },
  {
   "cell_type": "code",
   "execution_count": 4,
   "metadata": {},
   "outputs": [
    {
     "data": {
      "text/html": [
       "<div>\n",
       "<style scoped>\n",
       "    .dataframe tbody tr th:only-of-type {\n",
       "        vertical-align: middle;\n",
       "    }\n",
       "\n",
       "    .dataframe tbody tr th {\n",
       "        vertical-align: top;\n",
       "    }\n",
       "\n",
       "    .dataframe thead th {\n",
       "        text-align: right;\n",
       "    }\n",
       "</style>\n",
       "<table border=\"1\" class=\"dataframe\">\n",
       "  <thead>\n",
       "    <tr style=\"text-align: right;\">\n",
       "      <th></th>\n",
       "      <th>FFMC</th>\n",
       "      <th>DMC</th>\n",
       "      <th>DC</th>\n",
       "      <th>ISI</th>\n",
       "      <th>temp</th>\n",
       "      <th>RH</th>\n",
       "      <th>wind</th>\n",
       "      <th>size_category</th>\n",
       "    </tr>\n",
       "  </thead>\n",
       "  <tbody>\n",
       "    <tr>\n",
       "      <th>0</th>\n",
       "      <td>86.2</td>\n",
       "      <td>26.2</td>\n",
       "      <td>94.3</td>\n",
       "      <td>5.1</td>\n",
       "      <td>8.2</td>\n",
       "      <td>51</td>\n",
       "      <td>6.7</td>\n",
       "      <td>small</td>\n",
       "    </tr>\n",
       "    <tr>\n",
       "      <th>1</th>\n",
       "      <td>90.6</td>\n",
       "      <td>35.4</td>\n",
       "      <td>669.1</td>\n",
       "      <td>6.7</td>\n",
       "      <td>18.0</td>\n",
       "      <td>33</td>\n",
       "      <td>0.9</td>\n",
       "      <td>small</td>\n",
       "    </tr>\n",
       "    <tr>\n",
       "      <th>2</th>\n",
       "      <td>90.6</td>\n",
       "      <td>43.7</td>\n",
       "      <td>686.9</td>\n",
       "      <td>6.7</td>\n",
       "      <td>14.6</td>\n",
       "      <td>33</td>\n",
       "      <td>1.3</td>\n",
       "      <td>small</td>\n",
       "    </tr>\n",
       "    <tr>\n",
       "      <th>3</th>\n",
       "      <td>91.7</td>\n",
       "      <td>33.3</td>\n",
       "      <td>77.5</td>\n",
       "      <td>9.0</td>\n",
       "      <td>8.3</td>\n",
       "      <td>97</td>\n",
       "      <td>4.0</td>\n",
       "      <td>small</td>\n",
       "    </tr>\n",
       "    <tr>\n",
       "      <th>4</th>\n",
       "      <td>89.3</td>\n",
       "      <td>51.3</td>\n",
       "      <td>102.2</td>\n",
       "      <td>9.6</td>\n",
       "      <td>11.4</td>\n",
       "      <td>99</td>\n",
       "      <td>1.8</td>\n",
       "      <td>small</td>\n",
       "    </tr>\n",
       "  </tbody>\n",
       "</table>\n",
       "</div>"
      ],
      "text/plain": [
       "   FFMC   DMC     DC  ISI  temp  RH  wind size_category\n",
       "0  86.2  26.2   94.3  5.1   8.2  51   6.7         small\n",
       "1  90.6  35.4  669.1  6.7  18.0  33   0.9         small\n",
       "2  90.6  43.7  686.9  6.7  14.6  33   1.3         small\n",
       "3  91.7  33.3   77.5  9.0   8.3  97   4.0         small\n",
       "4  89.3  51.3  102.2  9.6  11.4  99   1.8         small"
      ]
     },
     "execution_count": 4,
     "metadata": {},
     "output_type": "execute_result"
    }
   ],
   "source": [
    "df.head()"
   ]
  },
  {
   "cell_type": "code",
   "execution_count": 5,
   "metadata": {},
   "outputs": [
    {
     "data": {
      "text/plain": [
       "small    378\n",
       "large    139\n",
       "Name: size_category, dtype: int64"
      ]
     },
     "execution_count": 5,
     "metadata": {},
     "output_type": "execute_result"
    }
   ],
   "source": [
    "df['size_category'].value_counts()"
   ]
  },
  {
   "cell_type": "code",
   "execution_count": 6,
   "metadata": {},
   "outputs": [],
   "source": [
    "x=df.iloc[:,0:7]\n",
    "y=df.iloc[:,7]\n",
    "M=df.values[:,0:7]\n"
   ]
  },
  {
   "cell_type": "code",
   "execution_count": 7,
   "metadata": {},
   "outputs": [
    {
     "name": "stdout",
     "output_type": "stream",
     "text": [
      "There are 361 samples in the training set and 156 samples in the test set\n",
      "\n"
     ]
    }
   ],
   "source": [
    "x_train,x_test,y_train,y_test=train_test_split(x,y,test_size=0.3,random_state=0)\n",
    "print('There are {} samples in the training set and {} samples in the test set'. format (x_train.shape[0], x_test.shape[0]))\n",
    "print()"
   ]
  },
  {
   "cell_type": "code",
   "execution_count": 8,
   "metadata": {},
   "outputs": [],
   "source": [
    "from sklearn.preprocessing import StandardScaler"
   ]
  },
  {
   "cell_type": "code",
   "execution_count": 9,
   "metadata": {},
   "outputs": [],
   "source": [
    "sc=StandardScaler()\n",
    "sc.fit(x_train)\n",
    "X_train=sc.transform(x_train)\n",
    "X_test=sc.transform(x_test)"
   ]
  },
  {
   "cell_type": "code",
   "execution_count": 10,
   "metadata": {},
   "outputs": [
    {
     "name": "stdout",
     "output_type": "stream",
     "text": [
      "After Standardizing feature, input would be like :\n",
      "\n",
      "       FFMC       DMC        DC       ISI      temp        RH      wind\n",
      "0 -1.081200 -1.575307 -1.931878 -1.041423 -1.940065  1.644522  1.303962\n",
      "1  0.280837 -0.400019 -0.214746  1.186887  0.570015 -0.909431  0.804896\n",
      "2  0.854326 -0.173644 -0.113644  0.871560  0.757844 -0.787814  0.305830\n",
      "3  0.244994  0.643475  0.465394  1.102800  0.365110 -0.727006 -0.470495\n",
      "4  0.495895  0.438808  0.209642  2.364107 -0.215452  0.489162  1.026703\n"
     ]
    }
   ],
   "source": [
    "print('After Standardizing feature, input would be like :\\n')\n",
    "print (pd.DataFrame(X_train, columns=x.columns).head())"
   ]
  },
  {
   "cell_type": "code",
   "execution_count": 11,
   "metadata": {},
   "outputs": [],
   "source": [
    "# Model building\n",
    "from matplotlib.colors import ListedColormap\n",
    "import matplotlib.pyplot as plt\n"
   ]
  },
  {
   "cell_type": "code",
   "execution_count": 12,
   "metadata": {},
   "outputs": [],
   "source": [
    "markers=('s','x')\n",
    "colors = ('red','blue')"
   ]
  },
  {
   "cell_type": "code",
   "execution_count": 13,
   "metadata": {},
   "outputs": [],
   "source": [
    "cmap=ListedColormap (colors[:len(np.unique(y_test))])"
   ]
  },
  {
   "cell_type": "code",
   "execution_count": 14,
   "metadata": {},
   "outputs": [
    {
     "name": "stderr",
     "output_type": "stream",
     "text": [
      "*c* argument looks like a single numeric RGB or RGBA sequence, which should be avoided as value-mapping will have precedence in case its length matches with *x* & *y*.  Please use the *color* keyword-argument or provide a 2-D array with a single row if you intend to specify the same RGB or RGBA value for all points.\n",
      "*c* argument looks like a single numeric RGB or RGBA sequence, which should be avoided as value-mapping will have precedence in case its length matches with *x* & *y*.  Please use the *color* keyword-argument or provide a 2-D array with a single row if you intend to specify the same RGB or RGBA value for all points.\n"
     ]
    },
    {
     "data": {
      "image/png": "[encoded data removed]",
      "text/plain": [
       "<Figure size 432x288 with 1 Axes>"
      ]
     },
     "metadata": {
      "needs_background": "light"
     },
     "output_type": "display_data"
    }
   ],
   "source": [
    "for idx,cl in enumerate (np.unique(y)):\n",
    "  #  plt.scatter(x=x[y==cl,0],\n",
    "   #             y=x[y==cl,1],\n",
    "    #            c=cmap(idx),marker=markers[idx],label=cl)\n",
    "    \n",
    "  #  plt.scatter(M.loc[y==cl,0],\n",
    "   #            M.loc[y==cl,1],\n",
    "    #           c=cl)\n",
    "    \n",
    "   # plt.scatter(x=M[y==cl,0],\n",
    "    #           y=M[y==cl,1],\n",
    "     #          c=cmap(idx),marker=markers[idx],label=cl)\n",
    "    \n",
    "    plt.scatter(x=M[y==cl,0],\n",
    "               y=M[y==cl,1],\n",
    "               c=cmap(idx),marker=markers[idx],label=cl)\n",
    "    "
   ]
  },
  {
   "cell_type": "code",
   "execution_count": 15,
   "metadata": {},
   "outputs": [
    {
     "name": "stdout",
     "output_type": "stream",
     "text": [
      "The accuracy of the SVM Classifier on training data is 0.74\n",
      "The accuracy of the SVM Classifier on test date is 0.71\n"
     ]
    }
   ],
   "source": [
    "#model building step with linear\n",
    "\n",
    "from sklearn.svm import SVC\n",
    "model=SVC (kernel='linear',random_state=0)\n",
    "model.fit(X_train,y_train)\n",
    "\n",
    "print ('The accuracy of the SVM Classifier on training data is {:.2f}' .format(model.score(X_train,y_train)))\n",
    "print ('The accuracy of the SVM Classifier on test date is {:.2f}' .format(model.score(x_test,y_test)))\n"
   ]
  },
  {
   "cell_type": "code",
   "execution_count": 16,
   "metadata": {},
   "outputs": [
    {
     "name": "stdout",
     "output_type": "stream",
     "text": [
      "The accuracy of the SVM Classifier on training data is 0.76\n",
      "The accuracy of the SVM Classifier on test date is 0.71\n"
     ]
    }
   ],
   "source": [
    "#model building step with rbf\n",
    "from sklearn.svm import SVC\n",
    "model=SVC (kernel='rbf',random_state=0,gamma=.10,C=1.0)\n",
    "model.fit(X_train,y_train)\n",
    "\n",
    "print ('The accuracy of the SVM Classifier on training data is {:.2f}' .format(model.score(X_train,y_train)))\n",
    "print ('The accuracy of the SVM Classifier on test date is {:.2f}' .format(model.score(x_test,y_test)))\n"
   ]
  },
  {
   "cell_type": "code",
   "execution_count": 30,
   "metadata": {},
   "outputs": [],
   "source": [
    "import warnings\n",
    "\n",
    "\n",
    "\n",
    "def versiontuple(v):\n",
    "    return tuple (map(int,(v.split(\".\"))))\n",
    "\n",
    "def plot_decision_regions (x_train,y, model ,test_idx=None, resolution=0.02):\n",
    "    \n",
    "    # setup marker generator and color map\n",
    "    markers=('s','x')\n",
    "    colors=('red','blue')\n",
    "    cmap=ListedColormap(colors[:len(np.unique(y))])\n",
    "    \n",
    "    #plot the decision serface\n",
    "    x1_min, x1_max= X_train[:, 0].min() - 1, X_train[:, 0].max() + 1\n",
    "    x2_min, x2_max= X_train[:, 1].min() - 1, X_train[:, 1].max() + 1\n",
    "    xx1, xx2 = np.meshgrid(np.arange(x1_min, x1_max, resolution),\n",
    "                            np.arange(x2_min, x2_max, resolution))\n",
    "        \n",
    "         \n",
    "#    z=np.array([xx1.ravel(), xx2.ravel()] + [np.repeat(0, xx1.ravel().size) for _ in range (7)]).T\n",
    "#    z=model.predict(z).reshape(xx1.shape)\n",
    "    \n",
    "            \n",
    "#    z=classifier.predict(np.array([xx1.ravel(),xx2.ravel()]).T)\n",
    "#    z=z.reshape(xx1.shape)\n",
    "#    plt.contourf(xx1, xx2, z, alpha=0.4, cmap=cmap)\n",
    "#    plt.xlim(xx1.min(), xx1.max())\n",
    "#    plt.ylim(xx2.min(),xx2.max())\n",
    "\n",
    "\n",
    "    for idx, cl in enumerate(np.unique(y)):\n",
    "        plt.scatter(x=M[y==cl,0],\n",
    "                        y=M[y==cl,1],\n",
    "                        c=cmap(idx),marker=markers[idx],label=cl)       \n"
   ]
  },
  {
   "cell_type": "code",
   "execution_count": 31,
   "metadata": {},
   "outputs": [
    {
     "name": "stderr",
     "output_type": "stream",
     "text": [
      "*c* argument looks like a single numeric RGB or RGBA sequence, which should be avoided as value-mapping will have precedence in case its length matches with *x* & *y*.  Please use the *color* keyword-argument or provide a 2-D array with a single row if you intend to specify the same RGB or RGBA value for all points.\n",
      "*c* argument looks like a single numeric RGB or RGBA sequence, which should be avoided as value-mapping will have precedence in case its length matches with *x* & *y*.  Please use the *color* keyword-argument or provide a 2-D array with a single row if you intend to specify the same RGB or RGBA value for all points.\n"
     ]
    },
    {
     "data": {
      "image/png": "[encoded data removed]",
      "text/plain": [
       "<Figure size 432x288 with 1 Axes>"
      ]
     },
     "metadata": {
      "needs_background": "light"
     },
     "output_type": "display_data"
    }
   ],
   "source": [
    "plot_decision_regions(X_test,y,model)"
   ]
  },
  {
   "cell_type": "code",
   "execution_count": null,
   "metadata": {},
   "outputs": [],
   "source": []
  },
  {
   "cell_type": "code",
   "execution_count": null,
   "metadata": {},
   "outputs": [],
   "source": []
  }
 ],
 "metadata": {
  "kernelspec": {
   "display_name": "Python 3",
   "language": "python",
   "name": "python3"
  },
  "language_info": {
   "codemirror_mode": {
    "name": "ipython",
    "version": 3
   },
   "file_extension": ".py",
   "mimetype": "text/x-python",
   "name": "python",
   "nbconvert_exporter": "python",
   "pygments_lexer": "ipython3",
   "version": "3.8.3"
  }
 },
 "nbformat": 4,
 "nbformat_minor": 4
}
